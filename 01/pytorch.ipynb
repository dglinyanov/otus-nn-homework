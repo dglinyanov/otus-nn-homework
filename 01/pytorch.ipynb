{
 "cells": [
  {
   "cell_type": "code",
   "execution_count": 1,
   "metadata": {},
   "outputs": [],
   "source": [
    "import utils\n",
    "import torch\n",
    "import torch.nn as nn\n",
    "import torch.nn.functional as F\n",
    "import torch.optim as optim\n",
    "\n",
    "%matplotlib inline"
   ]
  },
  {
   "cell_type": "code",
   "execution_count": 2,
   "metadata": {},
   "outputs": [
    {
     "name": "stdout",
     "output_type": "stream",
     "text": [
      "Train mean and std tensor([0.1307]) tensor([0.3015])\n",
      "Test mean and std tensor([0.1325]) tensor([0.3039])\n"
     ]
    }
   ],
   "source": [
    "train_loader, test_loader = utils.mnist()"
   ]
  },
  {
   "cell_type": "code",
   "execution_count": 3,
   "metadata": {},
   "outputs": [
    {
     "name": "stdout",
     "output_type": "stream",
     "text": [
      "torch.Size([50, 1, 28, 28]) torch.Size([50])\n"
     ]
    }
   ],
   "source": [
    "batch_x, batch_y = next(iter(train_loader))\n",
    "print(batch_x.shape, batch_y.shape)"
   ]
  },
  {
   "cell_type": "code",
   "execution_count": 4,
   "metadata": {},
   "outputs": [
    {
     "name": "stdout",
     "output_type": "stream",
     "text": [
      "torch.Size([50, 784])\n"
     ]
    }
   ],
   "source": [
    "flatten_x = batch_x.view(-1, 784)\n",
    "print(flatten_x.shape)"
   ]
  },
  {
   "cell_type": "code",
   "execution_count": 5,
   "metadata": {},
   "outputs": [
    {
     "name": "stdout",
     "output_type": "stream",
     "text": [
      "[torch.Size([10, 784]), torch.Size([10])]\n",
      "Parameter containing:\n",
      "tensor([-0.0275,  0.0146, -0.0179, -0.0040,  0.0099, -0.0192,  0.0093,  0.0089,\n",
      "         0.0285, -0.0292], requires_grad=True)\n"
     ]
    }
   ],
   "source": [
    "layer = nn.Linear(784, 10)\n",
    "print([p.shape for p in layer.parameters()])\n",
    "params = [p for p in layer.parameters()]\n",
    "print(params[1])"
   ]
  },
  {
   "cell_type": "code",
   "execution_count": 6,
   "metadata": {},
   "outputs": [
    {
     "name": "stdout",
     "output_type": "stream",
     "text": [
      "torch.Size([50, 10]) tensor([-0.4739, -0.4003, -0.0805, -0.8000, -0.5274,  0.3682,  0.1847, -0.3737,\n",
      "        -0.0875, -1.2968], grad_fn=<SliceBackward>)\n"
     ]
    }
   ],
   "source": [
    "hidden_x = layer(flatten_x)\n",
    "print(hidden_x.shape, hidden_x[0][:10])"
   ]
  },
  {
   "cell_type": "code",
   "execution_count": 7,
   "metadata": {},
   "outputs": [
    {
     "name": "stdout",
     "output_type": "stream",
     "text": [
      "tensor([-0.4739, -0.4003, -0.0805, -0.8000, -0.5274,  0.3682,  0.1847, -0.3737,\n",
      "        -0.0875, -1.2968], grad_fn=<SelectBackward>)\n",
      "tensor([0.0000, 0.0000, 0.0000, 0.0000, 0.0000, 0.3682, 0.1847, 0.0000, 0.0000,\n",
      "        0.0000], grad_fn=<SelectBackward>)\n"
     ]
    }
   ],
   "source": [
    "rectified = F.relu(hidden_x)\n",
    "print(hidden_x[0])\n",
    "print(rectified[0])"
   ]
  }
 ],
 "metadata": {
  "kernelspec": {
   "display_name": "Python 3",
   "language": "python",
   "name": "python3"
  },
  "language_info": {
   "codemirror_mode": {
    "name": "ipython",
    "version": 3
   },
   "file_extension": ".py",
   "mimetype": "text/x-python",
   "name": "python",
   "nbconvert_exporter": "python",
   "pygments_lexer": "ipython3",
   "version": "3.6.8"
  }
 },
 "nbformat": 4,
 "nbformat_minor": 2
}
