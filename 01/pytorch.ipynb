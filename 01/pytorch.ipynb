{
 "cells": [
  {
   "cell_type": "code",
   "execution_count": 1,
   "metadata": {},
   "outputs": [],
   "source": [
    "import utils\n",
    "import torch\n",
    "import torch.nn as nn\n",
    "import torch.nn.functional as F\n",
    "import torch.optim as optim\n",
    "\n",
    "%matplotlib inline"
   ]
  },
  {
   "cell_type": "code",
   "execution_count": 2,
   "metadata": {},
   "outputs": [],
   "source": [
    "train_loader, test_loader = utils.mnist()"
   ]
  },
  {
   "cell_type": "code",
   "execution_count": 3,
   "metadata": {},
   "outputs": [
    {
     "name": "stdout",
     "output_type": "stream",
     "text": [
      "tensor(8.2869e-09) tensor(1.0000)\n",
      "tensor(-4.9417e-09) tensor(1.)\n",
      "tensor(3.3376e-08) tensor(1.)\n",
      "tensor(9.8074e-09) tensor(1.)\n",
      "tensor(2.3568e-09) tensor(1.)\n",
      "tensor(3.9610e-08) tensor(1.)\n",
      "tensor(2.7978e-08) tensor(1.0000)\n",
      "tensor(6.0213e-08) tensor(1.)\n",
      "tensor(2.8586e-08) tensor(1.)\n",
      "tensor(2.4100e-08) tensor(1.0000)\n",
      "tensor(-1.6422e-08) tensor(1.)\n",
      "tensor(4.8125e-08) tensor(1.)\n",
      "tensor(6.3862e-09) tensor(1.0000)\n",
      "tensor(1.7106e-08) tensor(1.)\n",
      "tensor(-2.4100e-08) tensor(1.0000)\n",
      "tensor(-2.8966e-08) tensor(1.)\n",
      "tensor(3.3452e-09) tensor(1.0000)\n",
      "tensor(1.3609e-08) tensor(1.)\n",
      "tensor(-2.0451e-08) tensor(1.)\n",
      "tensor(-9.1992e-09) tensor(1.)\n",
      "tensor(2.7369e-08) tensor(1.)\n",
      "tensor(5.6031e-08) tensor(1.)\n",
      "tensor(2.6609e-09) tensor(1.)\n",
      "tensor(1.0644e-09) tensor(1.0000)\n",
      "tensor(5.0862e-08) tensor(1.)\n",
      "tensor(-5.8464e-08) tensor(1.0000)\n",
      "tensor(1.7638e-08) tensor(1.0000)\n",
      "tensor(-2.8054e-08) tensor(1.)\n",
      "tensor(-4.4399e-08) tensor(1.)\n",
      "tensor(-7.2149e-08) tensor(1.)\n",
      "tensor(-1.4445e-08) tensor(1.)\n",
      "tensor(-8.0892e-08) tensor(1.)\n",
      "tensor(1.9539e-08) tensor(1.)\n",
      "tensor(-5.0862e-08) tensor(1.)\n",
      "tensor(1.5053e-08) tensor(1.)\n",
      "tensor(-9.5033e-09) tensor(1.0000)\n",
      "tensor(3.5656e-08) tensor(1.)\n",
      "tensor(1.0568e-08) tensor(1.0000)\n",
      "tensor(-2.8662e-08) tensor(1.)\n",
      "tensor(7.3746e-09) tensor(1.)\n",
      "tensor(-3.4060e-08) tensor(1.0000)\n",
      "tensor(4.4703e-08) tensor(1.)\n",
      "tensor(2.4328e-09) tensor(1.)\n",
      "tensor(-9.1992e-09) tensor(1.)\n",
      "tensor(4.9645e-08) tensor(1.)\n",
      "tensor(2.5469e-08) tensor(1.)\n",
      "tensor(5.5499e-09) tensor(1.0000)\n",
      "tensor(6.2950e-08) tensor(1.)\n",
      "tensor(-7.8231e-08) tensor(1.)\n",
      "tensor(1.4977e-08) tensor(1.0000)\n",
      "torch.Size([50, 1, 28, 28]) torch.Size([50])\n"
     ]
    }
   ],
   "source": [
    "batch_x, batch_y = next(iter(train_loader))\n",
    "print(batch_x.shape, batch_y.shape)"
   ]
  },
  {
   "cell_type": "code",
   "execution_count": 4,
   "metadata": {},
   "outputs": [
    {
     "name": "stdout",
     "output_type": "stream",
     "text": [
      "torch.Size([50, 784])\n"
     ]
    }
   ],
   "source": [
    "flatten_x = batch_x.view(-1, 784)\n",
    "print(flatten_x.shape)"
   ]
  },
  {
   "cell_type": "code",
   "execution_count": 5,
   "metadata": {},
   "outputs": [
    {
     "name": "stdout",
     "output_type": "stream",
     "text": [
      "[torch.Size([10, 784]), torch.Size([10])]\n",
      "Parameter containing:\n",
      "tensor([-0.0338, -0.0343, -0.0316, -0.0285, -0.0233,  0.0087,  0.0271,  0.0212,\n",
      "         0.0199,  0.0070], requires_grad=True)\n"
     ]
    }
   ],
   "source": [
    "layer = nn.Linear(784, 10)\n",
    "print([p.shape for p in layer.parameters()])\n",
    "params = [p for p in layer.parameters()]\n",
    "print(params[1])"
   ]
  },
  {
   "cell_type": "code",
   "execution_count": 6,
   "metadata": {},
   "outputs": [
    {
     "name": "stdout",
     "output_type": "stream",
     "text": [
      "torch.Size([50, 10]) tensor([-0.0543,  0.4776,  0.3449, -0.2172, -0.1873,  0.1772, -0.3921, -0.4060,\n",
      "         0.3323,  0.6677], grad_fn=<SliceBackward>)\n"
     ]
    }
   ],
   "source": [
    "hidden_x = layer(flatten_x)\n",
    "print(hidden_x.shape, hidden_x[0][:10])"
   ]
  },
  {
   "cell_type": "code",
   "execution_count": 7,
   "metadata": {},
   "outputs": [
    {
     "name": "stdout",
     "output_type": "stream",
     "text": [
      "tensor([-0.0543,  0.4776,  0.3449, -0.2172, -0.1873,  0.1772, -0.3921, -0.4060,\n",
      "         0.3323,  0.6677], grad_fn=<SelectBackward>)\n",
      "tensor([0.0000, 0.4776, 0.3449, 0.0000, 0.0000, 0.1772, 0.0000, 0.0000, 0.3323,\n",
      "        0.6677], grad_fn=<SelectBackward>)\n"
     ]
    }
   ],
   "source": [
    "rectified = F.relu(hidden_x)\n",
    "print(hidden_x[0])\n",
    "print(rectified[0])"
   ]
  },
  {
   "cell_type": "code",
   "execution_count": null,
   "metadata": {},
   "outputs": [],
   "source": []
  }
 ],
 "metadata": {
  "kernelspec": {
   "display_name": "Python 3",
   "language": "python",
   "name": "python3"
  },
  "language_info": {
   "codemirror_mode": {
    "name": "ipython",
    "version": 3
   },
   "file_extension": ".py",
   "mimetype": "text/x-python",
   "name": "python",
   "nbconvert_exporter": "python",
   "pygments_lexer": "ipython3",
   "version": "3.6.8"
  }
 },
 "nbformat": 4,
 "nbformat_minor": 2
}
