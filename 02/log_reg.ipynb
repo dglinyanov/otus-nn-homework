{
 "cells": [
  {
   "cell_type": "code",
   "execution_count": 2,
   "metadata": {},
   "outputs": [],
   "source": [
    "import torch\n",
    "import torch.nn as nn\n",
    "import torch.nn.functional as F\n",
    "import torch.optim as optim\n",
    "\n",
    "import numpy as np\n",
    "import scipy.stats as stats\n",
    "import matplotlib.pyplot as plt\n",
    "\n",
    "%matplotlib inline"
   ]
  },
  {
   "cell_type": "code",
   "execution_count": 3,
   "metadata": {},
   "outputs": [],
   "source": [
    "# параметры распределений\n",
    "mu0, sigma0 = -2., 1.\n",
    "mu1, sigma1 = 3., 2."
   ]
  },
  {
   "cell_type": "code",
   "execution_count": null,
   "metadata": {},
   "outputs": [],
   "source": [
    "IMPUT_SIZE = 2 * 3"
   ]
  },
  {
   "cell_type": "code",
   "execution_count": 27,
   "metadata": {},
   "outputs": [],
   "source": [
    "def sample(d0, d1, n=32):\n",
    "    x0 = d0.sample((n, INPUT_SIZE))\n",
    "    # reshape (n, INPUT_SIZE, 1) to (n, INPUT_SIZE)\n",
    "    x0 = x0.reshape(n, INPUT_SIZE)\n",
    "    \n",
    "    x1 = d1.sample((n, INPUT_SIZE))\n",
    "    # reshape (n, INPUT_SIZE, 1) to (n, INPUT_SIZE)\n",
    "    x1 = x1.reshape(n, INPUT_SIZE)\n",
    "    \n",
    "    y0 = torch.zeros((n, 1))\n",
    "    y1 = torch.ones((n, 1))\n",
    "    return torch.cat([x0, x1], 0), torch.cat([y0, y1], 0)"
   ]
  },
  {
   "cell_type": "code",
   "execution_count": 28,
   "metadata": {},
   "outputs": [],
   "source": [
    "d0 = torch.distributions.Normal(torch.tensor([mu0]), torch.tensor([sigma0]))\n",
    "d1 = torch.distributions.Normal(torch.tensor([mu1]), torch.tensor([sigma1]))"
   ]
  },
  {
   "cell_type": "code",
   "execution_count": 29,
   "metadata": {},
   "outputs": [
    {
     "name": "stdout",
     "output_type": "stream",
     "text": [
      "[tensor([-0.0282,  0.0676, -0.1010,  0.0736,  0.0188,  0.0079]), tensor(0.1376)]\n"
     ]
    }
   ],
   "source": [
    "layer = nn.Linear(6, 1)\n",
    "print([p.data[0] for p in layer.parameters()])\n",
    "layer_opt = optim.SGD(lr=1e-3, params=list(layer.parameters()))"
   ]
  },
  {
   "cell_type": "code",
   "execution_count": 30,
   "metadata": {},
   "outputs": [
    {
     "name": "stdout",
     "output_type": "stream",
     "text": [
      "Ошибка после 0 итераций: 0.655005\n",
      "Ошибка после 1 итераций: 0.081967\n",
      "Ошибка после 2 итераций: 0.045172\n",
      "Ошибка после 3 итераций: 0.032040\n",
      "Ошибка после 4 итераций: 0.024813\n",
      "Ошибка после 5 итераций: 0.020334\n",
      "Ошибка после 6 итераций: 0.017393\n",
      "Ошибка после 7 итераций: 0.015222\n",
      "Ошибка после 8 итераций: 0.013596\n",
      "Ошибка после 9 итераций: 0.012245\n",
      "Ошибка после 10 итераций: 0.011120\n",
      "Ошибка после 11 итераций: 0.010315\n",
      "Ошибка после 12 итераций: 0.009527\n",
      "Ошибка после 13 итераций: 0.008961\n",
      "Ошибка после 14 итераций: 0.008366\n",
      "Ошибка после 15 итераций: 0.008015\n",
      "Ошибка после 16 итераций: 0.007554\n",
      "Ошибка после 17 итераций: 0.007129\n",
      "Ошибка после 18 итераций: 0.006754\n",
      "Ошибка после 19 итераций: 0.006514\n"
     ]
    }
   ],
   "source": [
    "log_freq = 500\n",
    "for i in range(10000):\n",
    "    if i%log_freq == 0:\n",
    "        with torch.no_grad():\n",
    "            x, y = sample(d0, d1, 100000)\n",
    "            out = torch.sigmoid(layer(x))\n",
    "            loss = F.binary_cross_entropy(out, y)\n",
    "        print('Ошибка после %d итераций: %f' %(i/log_freq, loss))\n",
    "    layer_opt.zero_grad()\n",
    "    x, y = sample(d0, d1, 1024)\n",
    "    out = torch.sigmoid(layer(x))\n",
    "    loss = F.binary_cross_entropy(out, y)\n",
    "    loss.backward()\n",
    "    layer_opt.step()"
   ]
  },
  {
   "cell_type": "code",
   "execution_count": 36,
   "metadata": {},
   "outputs": [],
   "source": [
    "x_scale = np.linspace(-10, 10, 5000)\n",
    "d0_pdf = stats.norm.pdf(x_scale, mu0, sigma0) \n",
    "d1_pdf = stats.norm.pdf(x_scale, mu1, sigma1)\n",
    "dist_scale = np.linspace(-10, 10, 5000 * 6)\n",
    "x_tensor = torch.tensor(dist_scale.reshape(-1, 6), dtype=torch.float)\n",
    "with torch.no_grad():\n",
    "    dist = torch.sigmoid(layer(x_tensor)).numpy()\n",
    "ratio = d1_pdf / (d1_pdf + d0_pdf)"
   ]
  },
  {
   "cell_type": "code",
   "execution_count": 37,
   "metadata": {},
   "outputs": [
    {
     "data": {
      "image/png": "[encoded data removed]",
      "text/plain": [
       "<Figure size 432x288 with 1 Axes>"
      ]
     },
     "metadata": {
      "needs_background": "light"
     },
     "output_type": "display_data"
    }
   ],
   "source": [
    "plt.plot(x_scale, d0_pdf*2, label='d0') # умножение на 2 для красоты графиков, на распределения не влияет\n",
    "plt.plot(x_scale, d1_pdf*2, label='d1')\n",
    "plt.plot(x_scale, dist.flatten(), label='pred')\n",
    "plt.plot(x_scale, ratio, label='ratio')\n",
    "plt.legend();"
   ]
  },
  {
   "cell_type": "code",
   "execution_count": 38,
   "metadata": {},
   "outputs": [
    {
     "name": "stdout",
     "output_type": "stream",
     "text": [
      "[tensor([0.4187, 0.4848, 0.3689, 0.4889, 0.4512, 0.4437]), tensor(0.0390)]\n"
     ]
    }
   ],
   "source": [
    "print([p.data[0] for p in layer.parameters()])"
   ]
  },
  {
   "cell_type": "code",
   "execution_count": 39,
   "metadata": {},
   "outputs": [
    {
     "name": "stderr",
     "output_type": "stream",
     "text": [
      "/opt/conda/lib/python3.6/site-packages/torch/nn/functional.py:1386: UserWarning: nn.functional.sigmoid is deprecated. Use torch.sigmoid instead.\n",
      "  warnings.warn(\"nn.functional.sigmoid is deprecated. Use torch.sigmoid instead.\")\n"
     ]
    },
    {
     "data": {
      "text/plain": [
       "tensor(-inf)"
      ]
     },
     "execution_count": 39,
     "metadata": {},
     "output_type": "execute_result"
    }
   ],
   "source": [
    "torch.log(F.sigmoid(torch.tensor(-100.)))"
   ]
  },
  {
   "cell_type": "code",
   "execution_count": 40,
   "metadata": {},
   "outputs": [
    {
     "data": {
      "text/plain": [
       "tensor(-100.)"
      ]
     },
     "execution_count": 40,
     "metadata": {},
     "output_type": "execute_result"
    }
   ],
   "source": [
    "F.logsigmoid(torch.tensor(-100.))"
   ]
  },
  {
   "cell_type": "code",
   "execution_count": null,
   "metadata": {},
   "outputs": [],
   "source": []
  }
 ],
 "metadata": {
  "kernelspec": {
   "display_name": "Python 3",
   "language": "python",
   "name": "python3"
  },
  "language_info": {
   "codemirror_mode": {
    "name": "ipython",
    "version": 3
   },
   "file_extension": ".py",
   "mimetype": "text/x-python",
   "name": "python",
   "nbconvert_exporter": "python",
   "pygments_lexer": "ipython3",
   "version": "3.6.8"
  }
 },
 "nbformat": 4,
 "nbformat_minor": 2
}
